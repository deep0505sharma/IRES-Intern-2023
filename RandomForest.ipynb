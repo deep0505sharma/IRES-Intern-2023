{
 "cells": [
  {
   "cell_type": "code",
   "execution_count": 1,
   "metadata": {},
   "outputs": [],
   "source": [
    "import pandas as pd\n",
    "import numpy as np\n",
    "from sklearn.model_selection import train_test_split\n",
    "from sklearn.preprocessing import StandardScaler\n",
    "import tensorflow as tf\n",
    "import matplotlib.pyplot as plt"
   ]
  },
  {
   "cell_type": "code",
   "execution_count": 2,
   "metadata": {},
   "outputs": [],
   "source": [
    "data = pd.read_csv(\"data.csv\")"
   ]
  },
  {
   "cell_type": "code",
   "execution_count": 5,
   "metadata": {},
   "outputs": [],
   "source": [
    "# for categorical data.\n",
    "data = pd.get_dummies(data, columns=['infill_pattern'])\n",
    "data = pd.get_dummies(data, columns=['material'])\n",
    "\n",
    "# scale numerical data.\n",
    "scaler = StandardScaler()\n",
    "numerical_features = [\n",
    "    'layer_height',\n",
    "    'wall_thickness',\n",
    "    'infill_density',\n",
    "    'nozzle_temperature',\n",
    "    'bed_temperature',\n",
    "    'print_speed',\n",
    "    'fan_speed',\n",
    "    'roughness',\n",
    "    'tension_strenght',\n",
    "    'elongation',\n",
    "]"
   ]
  },
  {
   "cell_type": "code",
   "execution_count": 7,
   "metadata": {},
   "outputs": [],
   "source": [
    "data[numerical_features] = scaler.fit_transform(data[numerical_features])\n",
    "\n",
    "X = data.drop(columns=['roughness', 'tension_strenght', 'elongation'])\n",
    "X = X.astype('float32')\n",
    "y = data[['roughness', 'tension_strenght', 'elongation',]]\n",
    "\n",
    "X = np.array(X)\n",
    "y = np.array(y)\n",
    "\n",
    "X_train, X_test, y_train, y_test = train_test_split(X, y, test_size=0.2, random_state=150)"
   ]
  },
  {
   "cell_type": "code",
   "execution_count": 8,
   "metadata": {},
   "outputs": [],
   "source": [
    "from sklearn.metrics import accuracy_score,confusion_matrix\n",
    "from sklearn.metrics import mean_squared_error"
   ]
  },
  {
   "cell_type": "code",
   "execution_count": 9,
   "metadata": {},
   "outputs": [
    {
     "data": {
      "text/plain": [
       "0.6371546500251508"
      ]
     },
     "execution_count": 9,
     "metadata": {},
     "output_type": "execute_result"
    }
   ],
   "source": [
    "from sklearn.ensemble import RandomForestRegressor\n",
    "RFmodel = RandomForestRegressor(n_estimators=100, max_depth=5, random_state=20113046)\n",
    "RFmodel.fit(X_train,y_train)\n",
    "RFmodel.score(X_test,y_test)"
   ]
  }
 ],
 "metadata": {
  "interpreter": {
   "hash": "afb734500600fd355917ca529030176ea0ca205570884b88f2f6f7d791fd3fbe"
  },
  "kernelspec": {
   "display_name": "Python 3.10.4 64-bit",
   "language": "python",
   "name": "python3"
  },
  "language_info": {
   "codemirror_mode": {
    "name": "ipython",
    "version": 3
   },
   "file_extension": ".py",
   "mimetype": "text/x-python",
   "name": "python",
   "nbconvert_exporter": "python",
   "pygments_lexer": "ipython3",
   "version": "3.10.4"
  },
  "orig_nbformat": 4
 },
 "nbformat": 4,
 "nbformat_minor": 2
}

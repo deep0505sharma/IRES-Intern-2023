{
 "cells": [
  {
   "cell_type": "code",
   "execution_count": 19,
   "metadata": {},
   "outputs": [],
   "source": [
    "import pandas as pd\n",
    "import numpy as np\n",
    "import matplotlib.pyplot as plt\n",
    "import seaborn as sns\n",
    "%matplotlib inline"
   ]
  },
  {
   "cell_type": "code",
   "execution_count": 20,
   "metadata": {},
   "outputs": [],
   "source": [
    "df = pd.read_csv(\"data.csv\")"
   ]
  },
  {
   "cell_type": "code",
   "execution_count": 21,
   "metadata": {},
   "outputs": [
    {
     "data": {
      "text/html": [
       "<div>\n",
       "<style scoped>\n",
       "    .dataframe tbody tr th:only-of-type {\n",
       "        vertical-align: middle;\n",
       "    }\n",
       "\n",
       "    .dataframe tbody tr th {\n",
       "        vertical-align: top;\n",
       "    }\n",
       "\n",
       "    .dataframe thead th {\n",
       "        text-align: right;\n",
       "    }\n",
       "</style>\n",
       "<table border=\"1\" class=\"dataframe\">\n",
       "  <thead>\n",
       "    <tr style=\"text-align: right;\">\n",
       "      <th></th>\n",
       "      <th>layer_height</th>\n",
       "      <th>wall_thickness</th>\n",
       "      <th>infill_density</th>\n",
       "      <th>infill_pattern</th>\n",
       "      <th>nozzle_temperature</th>\n",
       "      <th>bed_temperature</th>\n",
       "      <th>print_speed</th>\n",
       "      <th>material</th>\n",
       "      <th>fan_speed</th>\n",
       "      <th>roughness</th>\n",
       "      <th>tension_strenght</th>\n",
       "      <th>elongation</th>\n",
       "    </tr>\n",
       "  </thead>\n",
       "  <tbody>\n",
       "    <tr>\n",
       "      <th>0</th>\n",
       "      <td>0.02</td>\n",
       "      <td>8</td>\n",
       "      <td>90</td>\n",
       "      <td>grid</td>\n",
       "      <td>220</td>\n",
       "      <td>60</td>\n",
       "      <td>40</td>\n",
       "      <td>abs</td>\n",
       "      <td>0</td>\n",
       "      <td>25</td>\n",
       "      <td>18</td>\n",
       "      <td>1.2</td>\n",
       "    </tr>\n",
       "    <tr>\n",
       "      <th>1</th>\n",
       "      <td>0.02</td>\n",
       "      <td>7</td>\n",
       "      <td>90</td>\n",
       "      <td>honeycomb</td>\n",
       "      <td>225</td>\n",
       "      <td>65</td>\n",
       "      <td>40</td>\n",
       "      <td>abs</td>\n",
       "      <td>25</td>\n",
       "      <td>32</td>\n",
       "      <td>16</td>\n",
       "      <td>1.4</td>\n",
       "    </tr>\n",
       "    <tr>\n",
       "      <th>2</th>\n",
       "      <td>0.02</td>\n",
       "      <td>1</td>\n",
       "      <td>80</td>\n",
       "      <td>grid</td>\n",
       "      <td>230</td>\n",
       "      <td>70</td>\n",
       "      <td>40</td>\n",
       "      <td>abs</td>\n",
       "      <td>50</td>\n",
       "      <td>40</td>\n",
       "      <td>8</td>\n",
       "      <td>0.8</td>\n",
       "    </tr>\n",
       "    <tr>\n",
       "      <th>3</th>\n",
       "      <td>0.02</td>\n",
       "      <td>4</td>\n",
       "      <td>70</td>\n",
       "      <td>honeycomb</td>\n",
       "      <td>240</td>\n",
       "      <td>75</td>\n",
       "      <td>40</td>\n",
       "      <td>abs</td>\n",
       "      <td>75</td>\n",
       "      <td>68</td>\n",
       "      <td>10</td>\n",
       "      <td>0.5</td>\n",
       "    </tr>\n",
       "    <tr>\n",
       "      <th>4</th>\n",
       "      <td>0.02</td>\n",
       "      <td>6</td>\n",
       "      <td>90</td>\n",
       "      <td>grid</td>\n",
       "      <td>250</td>\n",
       "      <td>80</td>\n",
       "      <td>40</td>\n",
       "      <td>abs</td>\n",
       "      <td>100</td>\n",
       "      <td>92</td>\n",
       "      <td>5</td>\n",
       "      <td>0.7</td>\n",
       "    </tr>\n",
       "    <tr>\n",
       "      <th>5</th>\n",
       "      <td>0.02</td>\n",
       "      <td>10</td>\n",
       "      <td>40</td>\n",
       "      <td>honeycomb</td>\n",
       "      <td>200</td>\n",
       "      <td>60</td>\n",
       "      <td>40</td>\n",
       "      <td>pla</td>\n",
       "      <td>0</td>\n",
       "      <td>60</td>\n",
       "      <td>24</td>\n",
       "      <td>1.1</td>\n",
       "    </tr>\n",
       "    <tr>\n",
       "      <th>6</th>\n",
       "      <td>0.02</td>\n",
       "      <td>5</td>\n",
       "      <td>10</td>\n",
       "      <td>grid</td>\n",
       "      <td>205</td>\n",
       "      <td>65</td>\n",
       "      <td>40</td>\n",
       "      <td>pla</td>\n",
       "      <td>25</td>\n",
       "      <td>55</td>\n",
       "      <td>12</td>\n",
       "      <td>1.3</td>\n",
       "    </tr>\n",
       "    <tr>\n",
       "      <th>7</th>\n",
       "      <td>0.02</td>\n",
       "      <td>10</td>\n",
       "      <td>10</td>\n",
       "      <td>honeycomb</td>\n",
       "      <td>210</td>\n",
       "      <td>70</td>\n",
       "      <td>40</td>\n",
       "      <td>pla</td>\n",
       "      <td>50</td>\n",
       "      <td>21</td>\n",
       "      <td>14</td>\n",
       "      <td>1.5</td>\n",
       "    </tr>\n",
       "    <tr>\n",
       "      <th>8</th>\n",
       "      <td>0.02</td>\n",
       "      <td>9</td>\n",
       "      <td>70</td>\n",
       "      <td>grid</td>\n",
       "      <td>215</td>\n",
       "      <td>75</td>\n",
       "      <td>40</td>\n",
       "      <td>pla</td>\n",
       "      <td>75</td>\n",
       "      <td>24</td>\n",
       "      <td>27</td>\n",
       "      <td>1.4</td>\n",
       "    </tr>\n",
       "    <tr>\n",
       "      <th>9</th>\n",
       "      <td>0.02</td>\n",
       "      <td>8</td>\n",
       "      <td>40</td>\n",
       "      <td>honeycomb</td>\n",
       "      <td>220</td>\n",
       "      <td>80</td>\n",
       "      <td>40</td>\n",
       "      <td>pla</td>\n",
       "      <td>100</td>\n",
       "      <td>30</td>\n",
       "      <td>25</td>\n",
       "      <td>1.7</td>\n",
       "    </tr>\n",
       "  </tbody>\n",
       "</table>\n",
       "</div>"
      ],
      "text/plain": [
       "   layer_height  wall_thickness  infill_density infill_pattern  \\\n",
       "0          0.02               8              90           grid   \n",
       "1          0.02               7              90      honeycomb   \n",
       "2          0.02               1              80           grid   \n",
       "3          0.02               4              70      honeycomb   \n",
       "4          0.02               6              90           grid   \n",
       "5          0.02              10              40      honeycomb   \n",
       "6          0.02               5              10           grid   \n",
       "7          0.02              10              10      honeycomb   \n",
       "8          0.02               9              70           grid   \n",
       "9          0.02               8              40      honeycomb   \n",
       "\n",
       "   nozzle_temperature  bed_temperature  print_speed material  fan_speed  \\\n",
       "0                 220               60           40      abs          0   \n",
       "1                 225               65           40      abs         25   \n",
       "2                 230               70           40      abs         50   \n",
       "3                 240               75           40      abs         75   \n",
       "4                 250               80           40      abs        100   \n",
       "5                 200               60           40      pla          0   \n",
       "6                 205               65           40      pla         25   \n",
       "7                 210               70           40      pla         50   \n",
       "8                 215               75           40      pla         75   \n",
       "9                 220               80           40      pla        100   \n",
       "\n",
       "   roughness  tension_strenght  elongation  \n",
       "0         25                18         1.2  \n",
       "1         32                16         1.4  \n",
       "2         40                 8         0.8  \n",
       "3         68                10         0.5  \n",
       "4         92                 5         0.7  \n",
       "5         60                24         1.1  \n",
       "6         55                12         1.3  \n",
       "7         21                14         1.5  \n",
       "8         24                27         1.4  \n",
       "9         30                25         1.7  "
      ]
     },
     "execution_count": 21,
     "metadata": {},
     "output_type": "execute_result"
    }
   ],
   "source": [
    "df.head(10)"
   ]
  },
  {
   "cell_type": "markdown",
   "metadata": {},
   "source": [
    "One Hot Encoding the Catagorical Features"
   ]
  },
  {
   "cell_type": "code",
   "execution_count": 22,
   "metadata": {},
   "outputs": [],
   "source": [
    "df['infill_pattern'].replace(['grid','honeycomb'], [0,1], inplace = True)\n",
    "df['material'].replace(['abs','pla'], [0,1], inplace = True)"
   ]
  },
  {
   "cell_type": "markdown",
   "metadata": {},
   "source": [
    "Heatmap"
   ]
  },
  {
   "cell_type": "code",
   "execution_count": 23,
   "metadata": {},
   "outputs": [
    {
     "data": {
      "text/plain": [
       "<AxesSubplot:>"
      ]
     },
     "execution_count": 23,
     "metadata": {},
     "output_type": "execute_result"
    },
    {
     "data": {
      "image/png": "[encoded data removed]",
      "text/plain": [
       "<Figure size 1440x504 with 2 Axes>"
      ]
     },
     "metadata": {
      "needs_background": "light"
     },
     "output_type": "display_data"
    }
   ],
   "source": [
    "plt.figure(figsize = (20,7))\n",
    "sns.heatmap(df.corr(), annot = True, )"
   ]
  },
  {
   "cell_type": "code",
   "execution_count": 24,
   "metadata": {},
   "outputs": [],
   "source": [
    "X = df.drop(['roughness','tension_strenght','elongation'], axis = 1)\n",
    "y = df['roughness']"
   ]
  },
  {
   "cell_type": "code",
   "execution_count": 25,
   "metadata": {},
   "outputs": [
    {
     "data": {
      "text/html": [
       "<div>\n",
       "<style scoped>\n",
       "    .dataframe tbody tr th:only-of-type {\n",
       "        vertical-align: middle;\n",
       "    }\n",
       "\n",
       "    .dataframe tbody tr th {\n",
       "        vertical-align: top;\n",
       "    }\n",
       "\n",
       "    .dataframe thead th {\n",
       "        text-align: right;\n",
       "    }\n",
       "</style>\n",
       "<table border=\"1\" class=\"dataframe\">\n",
       "  <thead>\n",
       "    <tr style=\"text-align: right;\">\n",
       "      <th></th>\n",
       "      <th>layer_height</th>\n",
       "      <th>wall_thickness</th>\n",
       "      <th>infill_density</th>\n",
       "      <th>infill_pattern</th>\n",
       "      <th>nozzle_temperature</th>\n",
       "      <th>bed_temperature</th>\n",
       "      <th>print_speed</th>\n",
       "      <th>material</th>\n",
       "      <th>fan_speed</th>\n",
       "    </tr>\n",
       "  </thead>\n",
       "  <tbody>\n",
       "    <tr>\n",
       "      <th>0</th>\n",
       "      <td>0.02</td>\n",
       "      <td>8</td>\n",
       "      <td>90</td>\n",
       "      <td>0</td>\n",
       "      <td>220</td>\n",
       "      <td>60</td>\n",
       "      <td>40</td>\n",
       "      <td>0</td>\n",
       "      <td>0</td>\n",
       "    </tr>\n",
       "    <tr>\n",
       "      <th>1</th>\n",
       "      <td>0.02</td>\n",
       "      <td>7</td>\n",
       "      <td>90</td>\n",
       "      <td>1</td>\n",
       "      <td>225</td>\n",
       "      <td>65</td>\n",
       "      <td>40</td>\n",
       "      <td>0</td>\n",
       "      <td>25</td>\n",
       "    </tr>\n",
       "    <tr>\n",
       "      <th>2</th>\n",
       "      <td>0.02</td>\n",
       "      <td>1</td>\n",
       "      <td>80</td>\n",
       "      <td>0</td>\n",
       "      <td>230</td>\n",
       "      <td>70</td>\n",
       "      <td>40</td>\n",
       "      <td>0</td>\n",
       "      <td>50</td>\n",
       "    </tr>\n",
       "    <tr>\n",
       "      <th>3</th>\n",
       "      <td>0.02</td>\n",
       "      <td>4</td>\n",
       "      <td>70</td>\n",
       "      <td>1</td>\n",
       "      <td>240</td>\n",
       "      <td>75</td>\n",
       "      <td>40</td>\n",
       "      <td>0</td>\n",
       "      <td>75</td>\n",
       "    </tr>\n",
       "    <tr>\n",
       "      <th>4</th>\n",
       "      <td>0.02</td>\n",
       "      <td>6</td>\n",
       "      <td>90</td>\n",
       "      <td>0</td>\n",
       "      <td>250</td>\n",
       "      <td>80</td>\n",
       "      <td>40</td>\n",
       "      <td>0</td>\n",
       "      <td>100</td>\n",
       "    </tr>\n",
       "  </tbody>\n",
       "</table>\n",
       "</div>"
      ],
      "text/plain": [
       "   layer_height  wall_thickness  infill_density  infill_pattern  \\\n",
       "0          0.02               8              90               0   \n",
       "1          0.02               7              90               1   \n",
       "2          0.02               1              80               0   \n",
       "3          0.02               4              70               1   \n",
       "4          0.02               6              90               0   \n",
       "\n",
       "   nozzle_temperature  bed_temperature  print_speed  material  fan_speed  \n",
       "0                 220               60           40         0          0  \n",
       "1                 225               65           40         0         25  \n",
       "2                 230               70           40         0         50  \n",
       "3                 240               75           40         0         75  \n",
       "4                 250               80           40         0        100  "
      ]
     },
     "execution_count": 25,
     "metadata": {},
     "output_type": "execute_result"
    }
   ],
   "source": [
    "X.head()"
   ]
  },
  {
   "cell_type": "markdown",
   "metadata": {},
   "source": [
    "So the EDA Ends\n",
    "Now we can test various models on this dataset."
   ]
  },
  {
   "cell_type": "code",
   "execution_count": 26,
   "metadata": {},
   "outputs": [],
   "source": [
    "from sklearn.model_selection import train_test_split\n",
    "X_train, X_test, y_train, y_test = train_test_split(X,y,test_size=0.2,random_state=10)"
   ]
  },
  {
   "cell_type": "markdown",
   "metadata": {},
   "source": [
    "Cross Validation Score:\n",
    "For cross validation, I am adopting Linear Regression, Lasso, ElasticNet ( Just wanted to see so..), DecisionTreeRegressor and Ridge"
   ]
  },
  {
   "cell_type": "code",
   "execution_count": 27,
   "metadata": {},
   "outputs": [],
   "source": [
    "from sklearn.model_selection import ShuffleSplit\n",
    "from sklearn.model_selection import cross_val_score\n",
    "from sklearn.linear_model import LinearRegression\n",
    "from sklearn.linear_model import Lasso\n",
    "from sklearn.linear_model import ElasticNet\n",
    "from sklearn.tree import DecisionTreeRegressor\n",
    "from sklearn.linear_model import Ridge"
   ]
  },
  {
   "cell_type": "code",
   "execution_count": 28,
   "metadata": {},
   "outputs": [],
   "source": [
    "cv = ShuffleSplit(n_splits=5, test_size=0.2, random_state=120)"
   ]
  },
  {
   "cell_type": "markdown",
   "metadata": {},
   "source": [
    "Result of Linear Regression"
   ]
  },
  {
   "cell_type": "code",
   "execution_count": 29,
   "metadata": {},
   "outputs": [
    {
     "data": {
      "text/plain": [
       "array([0.87363558, 0.79939722, 0.68558791, 0.88311902, 0.77733434])"
      ]
     },
     "execution_count": 29,
     "metadata": {},
     "output_type": "execute_result"
    }
   ],
   "source": [
    "cross_val_score(LinearRegression(), X, y, cv=cv)"
   ]
  },
  {
   "cell_type": "markdown",
   "metadata": {},
   "source": [
    "Result of Lasso"
   ]
  },
  {
   "cell_type": "code",
   "execution_count": 30,
   "metadata": {},
   "outputs": [
    {
     "data": {
      "text/plain": [
       "array([0.70363214, 0.66141902, 0.48462008, 0.76300276, 0.84108628])"
      ]
     },
     "execution_count": 30,
     "metadata": {},
     "output_type": "execute_result"
    }
   ],
   "source": [
    "cross_val_score(Lasso(), X, y, cv=cv)"
   ]
  },
  {
   "cell_type": "markdown",
   "metadata": {},
   "source": [
    "Result of Decision Tree Regressor"
   ]
  },
  {
   "cell_type": "code",
   "execution_count": 31,
   "metadata": {},
   "outputs": [
    {
     "data": {
      "text/plain": [
       "array([0.83409166, 0.75943799, 0.25698824, 0.47555614, 0.57943892])"
      ]
     },
     "execution_count": 31,
     "metadata": {},
     "output_type": "execute_result"
    }
   ],
   "source": [
    "cross_val_score(DecisionTreeRegressor(), X, y, cv=cv)"
   ]
  },
  {
   "cell_type": "markdown",
   "metadata": {},
   "source": [
    "Result of Elastic net"
   ]
  },
  {
   "cell_type": "code",
   "execution_count": 32,
   "metadata": {},
   "outputs": [
    {
     "data": {
      "text/plain": [
       "array([-0.74276523, -0.25428957, -1.06701884, -0.26680806,  0.26698976])"
      ]
     },
     "execution_count": 32,
     "metadata": {},
     "output_type": "execute_result"
    }
   ],
   "source": [
    "cross_val_score(ElasticNet(), X, y, cv=cv)"
   ]
  },
  {
   "cell_type": "markdown",
   "metadata": {},
   "source": [
    "Result of Ridge"
   ]
  },
  {
   "cell_type": "code",
   "execution_count": 33,
   "metadata": {},
   "outputs": [
    {
     "data": {
      "text/plain": [
       "array([-0.42034921, -0.02191544, -0.85988897, -0.07524959,  0.42469227])"
      ]
     },
     "execution_count": 33,
     "metadata": {},
     "output_type": "execute_result"
    }
   ],
   "source": [
    "cross_val_score(Ridge(), X, y, cv=cv)"
   ]
  },
  {
   "cell_type": "markdown",
   "metadata": {},
   "source": [
    "Summary\n",
    "So far with the existing wrangled data we can catagorise : Linear Regression > Decision Tree> Lasso"
   ]
  },
  {
   "cell_type": "markdown",
   "metadata": {},
   "source": [
    "Going With Decision Tree"
   ]
  },
  {
   "cell_type": "code",
   "execution_count": 34,
   "metadata": {},
   "outputs": [
    {
     "data": {
      "text/plain": [
       "0.9644635730374411"
      ]
     },
     "execution_count": 34,
     "metadata": {},
     "output_type": "execute_result"
    }
   ],
   "source": [
    "dreg = DecisionTreeRegressor()\n",
    "dreg.fit(X_train,y_train)\n",
    "dreg.score(X_test,y_test)"
   ]
  },
  {
   "cell_type": "markdown",
   "metadata": {},
   "source": [
    "Going With Linear Regression"
   ]
  },
  {
   "cell_type": "code",
   "execution_count": 35,
   "metadata": {},
   "outputs": [
    {
     "data": {
      "text/plain": [
       "0.855873209794428"
      ]
     },
     "execution_count": 35,
     "metadata": {},
     "output_type": "execute_result"
    }
   ],
   "source": [
    "lreg = LinearRegression()\n",
    "lreg.fit(X_train,y_train)\n",
    "lreg.score(X_test,y_test)"
   ]
  }
 ],
 "metadata": {
  "interpreter": {
   "hash": "afb734500600fd355917ca529030176ea0ca205570884b88f2f6f7d791fd3fbe"
  },
  "kernelspec": {
   "display_name": "Python 3.10.4 64-bit",
   "language": "python",
   "name": "python3"
  },
  "language_info": {
   "codemirror_mode": {
    "name": "ipython",
    "version": 3
   },
   "file_extension": ".py",
   "mimetype": "text/x-python",
   "name": "python",
   "nbconvert_exporter": "python",
   "pygments_lexer": "ipython3",
   "version": "3.10.4"
  },
  "orig_nbformat": 4
 },
 "nbformat": 4,
 "nbformat_minor": 2
}
